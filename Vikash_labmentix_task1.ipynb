{
 "cells": [
  {
   "cell_type": "markdown",
   "id": "03d08fd4-ab2d-40b0-b6c5-eab6195d7244",
   "metadata": {},
   "source": [
    "## Loading csv file"
   ]
  },
  {
   "cell_type": "code",
   "execution_count": 1,
   "id": "71e70933-691a-4dfe-a566-bb1e6db0e0ec",
   "metadata": {},
   "outputs": [],
   "source": [
    "import pandas as pd"
   ]
  },
  {
   "cell_type": "code",
   "execution_count": 2,
   "id": "e06f5f6c-1fa9-4b94-a1b3-53d51984e58f",
   "metadata": {},
   "outputs": [
    {
     "name": "stderr",
     "output_type": "stream",
     "text": [
      "C:\\Users\\Vikas\\AppData\\Local\\Temp\\ipykernel_9920\\2704373164.py:1: DtypeWarning: Columns (12,13,19) have mixed types. Specify dtype option on import or set low_memory=False.\n",
      "  df=pd.read_csv('eCommerce_Customer_support_data.csv',delimiter=\",\")\n"
     ]
    }
   ],
   "source": [
    "df=pd.read_csv('eCommerce_Customer_support_data.csv',delimiter=\",\")"
   ]
  },
  {
   "cell_type": "code",
   "execution_count": 3,
   "id": "3c391371-f44d-4dbd-82e5-3b9d0d41c1df",
   "metadata": {},
   "outputs": [
    {
     "data": {
      "text/html": [
       "<div>\n",
       "<style scoped>\n",
       "    .dataframe tbody tr th:only-of-type {\n",
       "        vertical-align: middle;\n",
       "    }\n",
       "\n",
       "    .dataframe tbody tr th {\n",
       "        vertical-align: top;\n",
       "    }\n",
       "\n",
       "    .dataframe thead th {\n",
       "        text-align: right;\n",
       "    }\n",
       "</style>\n",
       "<table border=\"1\" class=\"dataframe\">\n",
       "  <thead>\n",
       "    <tr style=\"text-align: right;\">\n",
       "      <th></th>\n",
       "      <th>Unique id</th>\n",
       "      <th>channel_name</th>\n",
       "      <th>category</th>\n",
       "      <th>Sub-category</th>\n",
       "      <th>Customer Remarks</th>\n",
       "      <th>Order_id</th>\n",
       "      <th>order_date_time</th>\n",
       "      <th>Issue_reported at</th>\n",
       "      <th>issue_responded</th>\n",
       "      <th>Survey_response_Date</th>\n",
       "      <th>Customer_City</th>\n",
       "      <th>Product_category</th>\n",
       "      <th>Item_price</th>\n",
       "      <th>connected_handling_time</th>\n",
       "      <th>Agent_name</th>\n",
       "      <th>Supervisor</th>\n",
       "      <th>Manager</th>\n",
       "      <th>Tenure Bucket</th>\n",
       "      <th>Agent Shift</th>\n",
       "      <th>CSAT Score</th>\n",
       "    </tr>\n",
       "  </thead>\n",
       "  <tbody>\n",
       "    <tr>\n",
       "      <th>0</th>\n",
       "      <td>Column1</td>\n",
       "      <td>Column2</td>\n",
       "      <td>Column3</td>\n",
       "      <td>Column4</td>\n",
       "      <td>Column5</td>\n",
       "      <td>Column6</td>\n",
       "      <td>Column7</td>\n",
       "      <td>Column8</td>\n",
       "      <td>Column9</td>\n",
       "      <td>Column10</td>\n",
       "      <td>Column11</td>\n",
       "      <td>Column12</td>\n",
       "      <td>Column13</td>\n",
       "      <td>Column14</td>\n",
       "      <td>Column15</td>\n",
       "      <td>Column16</td>\n",
       "      <td>Column17</td>\n",
       "      <td>Column18</td>\n",
       "      <td>Column19</td>\n",
       "      <td>Column20</td>\n",
       "    </tr>\n",
       "    <tr>\n",
       "      <th>1</th>\n",
       "      <td>7e9ae164-6a8b-4521-a2d4-58f7c9fff13f</td>\n",
       "      <td>Outcall</td>\n",
       "      <td>Product Queries</td>\n",
       "      <td>Life Insurance</td>\n",
       "      <td>NaN</td>\n",
       "      <td>c27c9bb4-fa36-4140-9f1f-21009254ffdb</td>\n",
       "      <td>NaN</td>\n",
       "      <td>01-08-2023 11:13</td>\n",
       "      <td>01-08-2023 11:47</td>\n",
       "      <td>01-08-2023 00:00</td>\n",
       "      <td>NaN</td>\n",
       "      <td>NaN</td>\n",
       "      <td>NaN</td>\n",
       "      <td>NaN</td>\n",
       "      <td>Richard Buchanan</td>\n",
       "      <td>Mason Gupta</td>\n",
       "      <td>Jennifer Nguyen</td>\n",
       "      <td>On Job Training</td>\n",
       "      <td>Morning</td>\n",
       "      <td>5</td>\n",
       "    </tr>\n",
       "    <tr>\n",
       "      <th>2</th>\n",
       "      <td>b07ec1b0-f376-43b6-86df-ec03da3b2e16</td>\n",
       "      <td>Outcall</td>\n",
       "      <td>Product Queries</td>\n",
       "      <td>Product Specific Information</td>\n",
       "      <td>NaN</td>\n",
       "      <td>d406b0c7-ce17-4654-b9de-f08d421254bd</td>\n",
       "      <td>NaN</td>\n",
       "      <td>01-08-2023 12:52</td>\n",
       "      <td>01-08-2023 12:54</td>\n",
       "      <td>01-08-2023 00:00</td>\n",
       "      <td>NaN</td>\n",
       "      <td>NaN</td>\n",
       "      <td>NaN</td>\n",
       "      <td>NaN</td>\n",
       "      <td>Vicki Collins</td>\n",
       "      <td>Dylan Kim</td>\n",
       "      <td>Michael Lee</td>\n",
       "      <td>&gt;90</td>\n",
       "      <td>Morning</td>\n",
       "      <td>5</td>\n",
       "    </tr>\n",
       "    <tr>\n",
       "      <th>3</th>\n",
       "      <td>200814dd-27c7-4149-ba2b-bd3af3092880</td>\n",
       "      <td>Inbound</td>\n",
       "      <td>Order Related</td>\n",
       "      <td>Installation/demo</td>\n",
       "      <td>NaN</td>\n",
       "      <td>c273368d-b961-44cb-beaf-62d6fd6c00d5</td>\n",
       "      <td>NaN</td>\n",
       "      <td>01-08-2023 20:16</td>\n",
       "      <td>01-08-2023 20:38</td>\n",
       "      <td>01-08-2023 00:00</td>\n",
       "      <td>NaN</td>\n",
       "      <td>NaN</td>\n",
       "      <td>NaN</td>\n",
       "      <td>NaN</td>\n",
       "      <td>Duane Norman</td>\n",
       "      <td>Jackson Park</td>\n",
       "      <td>William Kim</td>\n",
       "      <td>On Job Training</td>\n",
       "      <td>Evening</td>\n",
       "      <td>5</td>\n",
       "    </tr>\n",
       "    <tr>\n",
       "      <th>4</th>\n",
       "      <td>eb0d3e53-c1ca-42d3-8486-e42c8d622135</td>\n",
       "      <td>Inbound</td>\n",
       "      <td>Returns</td>\n",
       "      <td>Reverse Pickup Enquiry</td>\n",
       "      <td>NaN</td>\n",
       "      <td>5aed0059-55a4-4ec6-bb54-97942092020a</td>\n",
       "      <td>NaN</td>\n",
       "      <td>01-08-2023 20:56</td>\n",
       "      <td>01-08-2023 21:16</td>\n",
       "      <td>01-08-2023 00:00</td>\n",
       "      <td>NaN</td>\n",
       "      <td>NaN</td>\n",
       "      <td>NaN</td>\n",
       "      <td>NaN</td>\n",
       "      <td>Patrick Flores</td>\n",
       "      <td>Olivia Wang</td>\n",
       "      <td>John Smith</td>\n",
       "      <td>&gt;90</td>\n",
       "      <td>Evening</td>\n",
       "      <td>5</td>\n",
       "    </tr>\n",
       "  </tbody>\n",
       "</table>\n",
       "</div>"
      ],
      "text/plain": [
       "                              Unique id channel_name         category  \\\n",
       "0                               Column1      Column2          Column3   \n",
       "1  7e9ae164-6a8b-4521-a2d4-58f7c9fff13f      Outcall  Product Queries   \n",
       "2  b07ec1b0-f376-43b6-86df-ec03da3b2e16      Outcall  Product Queries   \n",
       "3  200814dd-27c7-4149-ba2b-bd3af3092880      Inbound    Order Related   \n",
       "4  eb0d3e53-c1ca-42d3-8486-e42c8d622135      Inbound          Returns   \n",
       "\n",
       "                   Sub-category Customer Remarks  \\\n",
       "0                       Column4          Column5   \n",
       "1                Life Insurance              NaN   \n",
       "2  Product Specific Information              NaN   \n",
       "3             Installation/demo              NaN   \n",
       "4        Reverse Pickup Enquiry              NaN   \n",
       "\n",
       "                               Order_id order_date_time Issue_reported at  \\\n",
       "0                               Column6         Column7           Column8   \n",
       "1  c27c9bb4-fa36-4140-9f1f-21009254ffdb             NaN  01-08-2023 11:13   \n",
       "2  d406b0c7-ce17-4654-b9de-f08d421254bd             NaN  01-08-2023 12:52   \n",
       "3  c273368d-b961-44cb-beaf-62d6fd6c00d5             NaN  01-08-2023 20:16   \n",
       "4  5aed0059-55a4-4ec6-bb54-97942092020a             NaN  01-08-2023 20:56   \n",
       "\n",
       "    issue_responded Survey_response_Date Customer_City Product_category  \\\n",
       "0           Column9             Column10      Column11         Column12   \n",
       "1  01-08-2023 11:47     01-08-2023 00:00           NaN              NaN   \n",
       "2  01-08-2023 12:54     01-08-2023 00:00           NaN              NaN   \n",
       "3  01-08-2023 20:38     01-08-2023 00:00           NaN              NaN   \n",
       "4  01-08-2023 21:16     01-08-2023 00:00           NaN              NaN   \n",
       "\n",
       "  Item_price connected_handling_time        Agent_name    Supervisor  \\\n",
       "0   Column13                Column14          Column15      Column16   \n",
       "1        NaN                     NaN  Richard Buchanan   Mason Gupta   \n",
       "2        NaN                     NaN     Vicki Collins     Dylan Kim   \n",
       "3        NaN                     NaN      Duane Norman  Jackson Park   \n",
       "4        NaN                     NaN    Patrick Flores   Olivia Wang   \n",
       "\n",
       "           Manager    Tenure Bucket Agent Shift CSAT Score  \n",
       "0         Column17         Column18    Column19   Column20  \n",
       "1  Jennifer Nguyen  On Job Training     Morning          5  \n",
       "2      Michael Lee              >90     Morning          5  \n",
       "3      William Kim  On Job Training     Evening          5  \n",
       "4       John Smith              >90     Evening          5  "
      ]
     },
     "execution_count": 3,
     "metadata": {},
     "output_type": "execute_result"
    }
   ],
   "source": [
    "df.head()"
   ]
  },
  {
   "cell_type": "code",
   "execution_count": 4,
   "id": "f8d28904-70a3-4946-917b-3a1f25805aed",
   "metadata": {},
   "outputs": [
    {
     "name": "stdout",
     "output_type": "stream",
     "text": [
      "Initial shape: (85908, 20)\n",
      "Null values per column:\n",
      " Unique id                      0\n",
      "channel_name                   0\n",
      "category                       0\n",
      "Sub-category                   0\n",
      "Customer Remarks           57165\n",
      "Order_id                   18232\n",
      "order_date_time            68693\n",
      "Issue_reported at              0\n",
      "issue_responded                0\n",
      "Survey_response_Date           0\n",
      "Customer_City              68828\n",
      "Product_category           68711\n",
      "Item_price                 68701\n",
      "connected_handling_time    85665\n",
      "Agent_name                     0\n",
      "Supervisor                     0\n",
      "Manager                        0\n",
      "Tenure Bucket                  0\n",
      "Agent Shift                    0\n",
      "CSAT Score                     0\n",
      "dtype: int64\n"
     ]
    }
   ],
   "source": [
    "print(\"Initial shape:\", df.shape)\n",
    "print(\"Null values per column:\\n\", df.isnull().sum())"
   ]
  },
  {
   "cell_type": "code",
   "execution_count": 6,
   "id": "c942ebc0-7ee8-43df-ad5c-dd6491249976",
   "metadata": {},
   "outputs": [],
   "source": [
    "irrelevant_cols = ['Unique id', 'Order_id']\n",
    "df_cleaned=df.drop(columns=irrelevant_cols,axis=1)"
   ]
  },
  {
   "cell_type": "code",
   "execution_count": 8,
   "id": "b2117e8b-061e-490d-abeb-128713826f7c",
   "metadata": {},
   "outputs": [
    {
     "name": "stderr",
     "output_type": "stream",
     "text": [
      "C:\\Users\\Vikas\\AppData\\Local\\Temp\\ipykernel_9920\\2790018050.py:4: UserWarning: Could not infer format, so each element will be parsed individually, falling back to `dateutil`. To ensure parsing is consistent and as-expected, please specify a format.\n",
      "  df_cleaned[col] = pd.to_datetime(df_cleaned[col], dayfirst=True, errors='coerce')\n",
      "C:\\Users\\Vikas\\AppData\\Local\\Temp\\ipykernel_9920\\2790018050.py:4: UserWarning: Could not infer format, so each element will be parsed individually, falling back to `dateutil`. To ensure parsing is consistent and as-expected, please specify a format.\n",
      "  df_cleaned[col] = pd.to_datetime(df_cleaned[col], dayfirst=True, errors='coerce')\n",
      "C:\\Users\\Vikas\\AppData\\Local\\Temp\\ipykernel_9920\\2790018050.py:4: UserWarning: Could not infer format, so each element will be parsed individually, falling back to `dateutil`. To ensure parsing is consistent and as-expected, please specify a format.\n",
      "  df_cleaned[col] = pd.to_datetime(df_cleaned[col], dayfirst=True, errors='coerce')\n",
      "C:\\Users\\Vikas\\AppData\\Local\\Temp\\ipykernel_9920\\2790018050.py:4: UserWarning: Could not infer format, so each element will be parsed individually, falling back to `dateutil`. To ensure parsing is consistent and as-expected, please specify a format.\n",
      "  df_cleaned[col] = pd.to_datetime(df_cleaned[col], dayfirst=True, errors='coerce')\n"
     ]
    }
   ],
   "source": [
    "date_cols = ['order_date_time', 'Issue_reported at', 'issue_responded', 'Survey_response_Date']\n",
    "for col in date_cols:\n",
    "    if col in df_cleaned.columns:\n",
    "        df_cleaned[col] = pd.to_datetime(df_cleaned[col], dayfirst=True, errors='coerce')\n",
    "        df_cleaned[col] = df_cleaned[col].fillna(df_cleaned[col].min())"
   ]
  },
  {
   "cell_type": "code",
   "execution_count": 10,
   "id": "1f5fade8-169e-4107-ac25-5d7b8445cc5b",
   "metadata": {},
   "outputs": [
    {
     "name": "stdout",
     "output_type": "stream",
     "text": [
      "<class 'pandas.core.frame.DataFrame'>\n",
      "RangeIndex: 85908 entries, 0 to 85907\n",
      "Data columns (total 18 columns):\n",
      " #   Column                   Non-Null Count  Dtype         \n",
      "---  ------                   --------------  -----         \n",
      " 0   channel_name             85908 non-null  object        \n",
      " 1   category                 85908 non-null  object        \n",
      " 2   Sub-category             85908 non-null  object        \n",
      " 3   Customer Remarks         28743 non-null  object        \n",
      " 4   order_date_time          85908 non-null  datetime64[ns]\n",
      " 5   Issue_reported at        85908 non-null  datetime64[ns]\n",
      " 6   issue_responded          85908 non-null  datetime64[ns]\n",
      " 7   Survey_response_Date     85908 non-null  datetime64[ns]\n",
      " 8   Customer_City            17080 non-null  object        \n",
      " 9   Product_category         17197 non-null  object        \n",
      " 10  Item_price               17207 non-null  object        \n",
      " 11  connected_handling_time  243 non-null    object        \n",
      " 12  Agent_name               85908 non-null  object        \n",
      " 13  Supervisor               85908 non-null  object        \n",
      " 14  Manager                  85908 non-null  object        \n",
      " 15  Tenure Bucket            85908 non-null  object        \n",
      " 16  Agent Shift              85908 non-null  object        \n",
      " 17  CSAT Score               85908 non-null  object        \n",
      "dtypes: datetime64[ns](4), object(14)\n",
      "memory usage: 11.8+ MB\n"
     ]
    }
   ],
   "source": [
    "df_cleaned.info()"
   ]
  },
  {
   "cell_type": "code",
   "execution_count": 11,
   "id": "c2064592-e66e-4762-b2c8-be33c4c82dd0",
   "metadata": {},
   "outputs": [],
   "source": [
    "for col in df_cleaned.columns:\n",
    "    if df_cleaned[col].dtype == 'object':\n",
    "        df_cleaned[col] = df_cleaned[col].fillna('Missing')\n",
    "    elif df_cleaned[col].dtype=='int64':\n",
    "        df_cleaned[col]=df_cleaned[col].fillna(df_cleaned[col].median())\n",
    "    elif df_cleaned[col].dtype=='float64':\n",
    "        df_cleaned[col]=df_cleaned[col].fillna(df_cleaned[col].median())\n",
    "    else:\n",
    "        df_cleaned[col]=df_cleaned[col].fillna(df_cleaned[col].min())"
   ]
  },
  {
   "cell_type": "code",
   "execution_count": 12,
   "id": "e0b6bada-3f79-45da-90dd-c103c8a48f8c",
   "metadata": {},
   "outputs": [],
   "source": [
    "df_cleaned=df_cleaned.drop(columns='connected_handling_time',axis=1)"
   ]
  },
  {
   "cell_type": "code",
   "execution_count": 14,
   "id": "5976d6e4-d8e6-4132-a5e1-eea0bb2b867e",
   "metadata": {},
   "outputs": [
    {
     "name": "stdout",
     "output_type": "stream",
     "text": [
      "<class 'pandas.core.frame.DataFrame'>\n",
      "RangeIndex: 85908 entries, 0 to 85907\n",
      "Data columns (total 17 columns):\n",
      " #   Column                Non-Null Count  Dtype         \n",
      "---  ------                --------------  -----         \n",
      " 0   channel_name          85908 non-null  object        \n",
      " 1   category              85908 non-null  object        \n",
      " 2   Sub-category          85908 non-null  object        \n",
      " 3   Customer Remarks      85908 non-null  object        \n",
      " 4   order_date_time       85908 non-null  datetime64[ns]\n",
      " 5   Issue_reported at     85908 non-null  datetime64[ns]\n",
      " 6   issue_responded       85908 non-null  datetime64[ns]\n",
      " 7   Survey_response_Date  85908 non-null  datetime64[ns]\n",
      " 8   Customer_City         85908 non-null  object        \n",
      " 9   Product_category      85908 non-null  object        \n",
      " 10  Item_price            85908 non-null  object        \n",
      " 11  Agent_name            85908 non-null  object        \n",
      " 12  Supervisor            85908 non-null  object        \n",
      " 13  Manager               85908 non-null  object        \n",
      " 14  Tenure Bucket         85908 non-null  object        \n",
      " 15  Agent Shift           85908 non-null  object        \n",
      " 16  CSAT Score            85908 non-null  object        \n",
      "dtypes: datetime64[ns](4), object(13)\n",
      "memory usage: 11.1+ MB\n"
     ]
    }
   ],
   "source": [
    "df_cleaned.info()"
   ]
  },
  {
   "cell_type": "markdown",
   "id": "2a1ea924-e095-40fc-81ec-076b93a2bfff",
   "metadata": {},
   "source": [
    "#### Converting df['Item_price'].dtypes into 'int'"
   ]
  },
  {
   "cell_type": "code",
   "execution_count": 16,
   "id": "562d6069-dfe5-4038-9050-518204e756b9",
   "metadata": {},
   "outputs": [
    {
     "data": {
      "text/plain": [
       "dtype('O')"
      ]
     },
     "execution_count": 16,
     "metadata": {},
     "output_type": "execute_result"
    }
   ],
   "source": [
    "df_cleaned['Item_price'].dtypes"
   ]
  },
  {
   "cell_type": "code",
   "execution_count": 19,
   "id": "ce8a99a6-4d47-4a36-91e6-12e489fb6170",
   "metadata": {},
   "outputs": [],
   "source": [
    "df_cleaned = df_cleaned[pd.to_numeric(df_cleaned['Item_price'], errors='coerce').notnull()]"
   ]
  },
  {
   "cell_type": "code",
   "execution_count": 21,
   "id": "2840bdd1-82c2-4c16-af63-76abba9d83c3",
   "metadata": {},
   "outputs": [],
   "source": [
    "df_cleaned['Item_price'] = df_cleaned['Item_price'].astype(float).astype(int)"
   ]
  },
  {
   "cell_type": "code",
   "execution_count": 22,
   "id": "726aee80-bd98-4068-912e-f31b1df5390f",
   "metadata": {},
   "outputs": [
    {
     "name": "stdout",
     "output_type": "stream",
     "text": [
      "<class 'pandas.core.frame.DataFrame'>\n",
      "Index: 17206 entries, 12 to 85902\n",
      "Data columns (total 17 columns):\n",
      " #   Column                Non-Null Count  Dtype         \n",
      "---  ------                --------------  -----         \n",
      " 0   channel_name          17206 non-null  object        \n",
      " 1   category              17206 non-null  object        \n",
      " 2   Sub-category          17206 non-null  object        \n",
      " 3   Customer Remarks      17206 non-null  object        \n",
      " 4   order_date_time       17206 non-null  datetime64[ns]\n",
      " 5   Issue_reported at     17206 non-null  datetime64[ns]\n",
      " 6   issue_responded       17206 non-null  datetime64[ns]\n",
      " 7   Survey_response_Date  17206 non-null  datetime64[ns]\n",
      " 8   Customer_City         17206 non-null  object        \n",
      " 9   Product_category      17206 non-null  object        \n",
      " 10  Item_price            17206 non-null  int64         \n",
      " 11  Agent_name            17206 non-null  object        \n",
      " 12  Supervisor            17206 non-null  object        \n",
      " 13  Manager               17206 non-null  object        \n",
      " 14  Tenure Bucket         17206 non-null  object        \n",
      " 15  Agent Shift           17206 non-null  object        \n",
      " 16  CSAT Score            17206 non-null  object        \n",
      "dtypes: datetime64[ns](4), int64(1), object(12)\n",
      "memory usage: 2.4+ MB\n"
     ]
    }
   ],
   "source": [
    "df_cleaned.info()"
   ]
  },
  {
   "cell_type": "code",
   "execution_count": 23,
   "id": "14e0625d-ff3e-444d-8f95-a330e7beacfd",
   "metadata": {},
   "outputs": [
    {
     "data": {
      "text/plain": [
       "channel_name            0\n",
       "category                0\n",
       "Sub-category            0\n",
       "Customer Remarks        0\n",
       "order_date_time         0\n",
       "Issue_reported at       0\n",
       "issue_responded         0\n",
       "Survey_response_Date    0\n",
       "Customer_City           0\n",
       "Product_category        0\n",
       "Item_price              0\n",
       "Agent_name              0\n",
       "Supervisor              0\n",
       "Manager                 0\n",
       "Tenure Bucket           0\n",
       "Agent Shift             0\n",
       "CSAT Score              0\n",
       "dtype: int64"
      ]
     },
     "execution_count": 23,
     "metadata": {},
     "output_type": "execute_result"
    }
   ],
   "source": [
    "df_cleaned.isnull().sum() # Now my data doesn't include any null values "
   ]
  },
  {
   "cell_type": "markdown",
   "id": "4e7e974f-1820-487c-bb49-6e5871f8967d",
   "metadata": {},
   "source": [
    "## Data grouping and visualization"
   ]
  },
  {
   "cell_type": "code",
   "execution_count": 24,
   "id": "f285d9e5-651e-4e79-8a9a-47849560eefe",
   "metadata": {},
   "outputs": [],
   "source": [
    "import seaborn as sns\n",
    "import matplotlib.pyplot as plt"
   ]
  },
  {
   "cell_type": "code",
   "execution_count": 25,
   "id": "5b4d4c70-124a-492b-8c69-10bab5c3720d",
   "metadata": {},
   "outputs": [],
   "source": [
    "sns.set_theme(style='darkgrid')"
   ]
  },
  {
   "cell_type": "markdown",
   "id": "238b4f4f-740e-44b2-bf6a-d14ca3d5974b",
   "metadata": {},
   "source": [
    "#### Grouping chaneel_name with item_price"
   ]
  },
  {
   "cell_type": "code",
   "execution_count": 33,
   "id": "5150acce-9b39-4605-b97b-5d418318edf7",
   "metadata": {},
   "outputs": [],
   "source": [
    "channel_item_price=df_cleaned.groupby('channel_name')['Item_price'].sum().sort_values(ascending=False).reset_index()\n"
   ]
  },
  {
   "cell_type": "code",
   "execution_count": 34,
   "id": "6d2cc580-bdf1-47e8-ad23-0146eeac73c9",
   "metadata": {},
   "outputs": [
    {
     "data": {
      "text/html": [
       "<div>\n",
       "<style scoped>\n",
       "    .dataframe tbody tr th:only-of-type {\n",
       "        vertical-align: middle;\n",
       "    }\n",
       "\n",
       "    .dataframe tbody tr th {\n",
       "        vertical-align: top;\n",
       "    }\n",
       "\n",
       "    .dataframe thead th {\n",
       "        text-align: right;\n",
       "    }\n",
       "</style>\n",
       "<table border=\"1\" class=\"dataframe\">\n",
       "  <thead>\n",
       "    <tr style=\"text-align: right;\">\n",
       "      <th></th>\n",
       "      <th>channel_name</th>\n",
       "      <th>Item_price</th>\n",
       "    </tr>\n",
       "  </thead>\n",
       "  <tbody>\n",
       "    <tr>\n",
       "      <th>0</th>\n",
       "      <td>Inbound</td>\n",
       "      <td>78056538</td>\n",
       "    </tr>\n",
       "    <tr>\n",
       "      <th>1</th>\n",
       "      <td>Outcall</td>\n",
       "      <td>11653798</td>\n",
       "    </tr>\n",
       "    <tr>\n",
       "      <th>2</th>\n",
       "      <td>Email</td>\n",
       "      <td>7688956</td>\n",
       "    </tr>\n",
       "  </tbody>\n",
       "</table>\n",
       "</div>"
      ],
      "text/plain": [
       "  channel_name  Item_price\n",
       "0      Inbound    78056538\n",
       "1      Outcall    11653798\n",
       "2        Email     7688956"
      ]
     },
     "execution_count": 34,
     "metadata": {},
     "output_type": "execute_result"
    }
   ],
   "source": [
    "channel_item_price"
   ]
  },
  {
   "cell_type": "code",
   "execution_count": 63,
   "id": "fe564d0e-c395-4fdb-a5e5-96e1926cba9c",
   "metadata": {},
   "outputs": [
    {
     "data": {
      "image/png": "[encoded data removed]",
      "text/plain": [
       "<Figure size 640x480 with 1 Axes>"
      ]
     },
     "metadata": {},
     "output_type": "display_data"
    }
   ],
   "source": [
    "chennel_itemprice_barplot=sns.barplot(x='channel_name',y='Item_price',data=channel_item_price)\n",
    "for container in chennel_itemprice_barplot.containers:\n",
    "    chennel_itemprice_barplot.bar_label(container, fmt='%.0f', padding=3,c=\"g\")\n",
    "plt.title(\"item_priceVSchannel_name\")\n",
    "plt.show()"
   ]
  },
  {
   "cell_type": "markdown",
   "id": "2913d3d6-c211-422d-84e8-cbc0eb6c86f5",
   "metadata": {},
   "source": [
    "#### Grouping category with item price"
   ]
  },
  {
   "cell_type": "code",
   "execution_count": 39,
   "id": "0d95a0f1-5298-4107-9e89-b3d1bc305b0f",
   "metadata": {},
   "outputs": [],
   "source": [
    "category_itemprice=df_cleaned.groupby('category')['Item_price'].sum().sort_values(ascending=False).reset_index()"
   ]
  },
  {
   "cell_type": "code",
   "execution_count": 48,
   "id": "b3918914-34e1-470b-be8e-a8b022eaa34e",
   "metadata": {},
   "outputs": [
    {
     "data": {
      "text/html": [
       "<div>\n",
       "<style scoped>\n",
       "    .dataframe tbody tr th:only-of-type {\n",
       "        vertical-align: middle;\n",
       "    }\n",
       "\n",
       "    .dataframe tbody tr th {\n",
       "        vertical-align: top;\n",
       "    }\n",
       "\n",
       "    .dataframe thead th {\n",
       "        text-align: right;\n",
       "    }\n",
       "</style>\n",
       "<table border=\"1\" class=\"dataframe\">\n",
       "  <thead>\n",
       "    <tr style=\"text-align: right;\">\n",
       "      <th></th>\n",
       "      <th>category</th>\n",
       "      <th>Item_price</th>\n",
       "    </tr>\n",
       "  </thead>\n",
       "  <tbody>\n",
       "    <tr>\n",
       "      <th>0</th>\n",
       "      <td>Order Related</td>\n",
       "      <td>49170562</td>\n",
       "    </tr>\n",
       "    <tr>\n",
       "      <th>1</th>\n",
       "      <td>Returns</td>\n",
       "      <td>30124608</td>\n",
       "    </tr>\n",
       "    <tr>\n",
       "      <th>2</th>\n",
       "      <td>Refund Related</td>\n",
       "      <td>7408265</td>\n",
       "    </tr>\n",
       "    <tr>\n",
       "      <th>3</th>\n",
       "      <td>Cancellation</td>\n",
       "      <td>6572866</td>\n",
       "    </tr>\n",
       "    <tr>\n",
       "      <th>4</th>\n",
       "      <td>Feedback</td>\n",
       "      <td>2184274</td>\n",
       "    </tr>\n",
       "    <tr>\n",
       "      <th>5</th>\n",
       "      <td>Offers &amp; Cashback</td>\n",
       "      <td>902065</td>\n",
       "    </tr>\n",
       "    <tr>\n",
       "      <th>6</th>\n",
       "      <td>Payments related</td>\n",
       "      <td>512537</td>\n",
       "    </tr>\n",
       "    <tr>\n",
       "      <th>7</th>\n",
       "      <td>Shopzilla Related</td>\n",
       "      <td>273115</td>\n",
       "    </tr>\n",
       "    <tr>\n",
       "      <th>8</th>\n",
       "      <td>Product Queries</td>\n",
       "      <td>156192</td>\n",
       "    </tr>\n",
       "    <tr>\n",
       "      <th>9</th>\n",
       "      <td>Others</td>\n",
       "      <td>94808</td>\n",
       "    </tr>\n",
       "  </tbody>\n",
       "</table>\n",
       "</div>"
      ],
      "text/plain": [
       "            category  Item_price\n",
       "0      Order Related    49170562\n",
       "1            Returns    30124608\n",
       "2     Refund Related     7408265\n",
       "3       Cancellation     6572866\n",
       "4           Feedback     2184274\n",
       "5  Offers & Cashback      902065\n",
       "6   Payments related      512537\n",
       "7  Shopzilla Related      273115\n",
       "8    Product Queries      156192\n",
       "9             Others       94808"
      ]
     },
     "execution_count": 48,
     "metadata": {},
     "output_type": "execute_result"
    }
   ],
   "source": [
    "category_itemprice"
   ]
  },
  {
   "cell_type": "code",
   "execution_count": 61,
   "id": "79047777-b69a-4566-b752-ac5a81ab364b",
   "metadata": {},
   "outputs": [
    {
     "data": {
      "image/png": "[encoded data removed]",
      "text/plain": [
       "<Figure size 1000x1000 with 1 Axes>"
      ]
     },
     "metadata": {},
     "output_type": "display_data"
    }
   ],
   "source": [
    "plt.figure(figsize=(10,10))\n",
    "category_itemprice_barplot=sns.barplot(x='category',y='Item_price',data=category_itemprice)\n",
    "for container in category_itemprice_barplot.containers:\n",
    "    category_itemprice_barplot.bar_label(container, fmt='%.0f', padding=3,c=\"g\")\n",
    "plt.title(\"item_priceVSchannel_name\")\n",
    "plt.xticks(rotation=90)\n",
    "plt.show()"
   ]
  },
  {
   "cell_type": "code",
   "execution_count": 64,
   "id": "74caef63-b84b-4c1d-9561-55abf4230d28",
   "metadata": {},
   "outputs": [],
   "source": [
    "agentshift_itemprice=df_cleaned.groupby('Agent Shift')['Item_price'].sum().sort_values(ascending=False).reset_index()"
   ]
  },
  {
   "cell_type": "code",
   "execution_count": 65,
   "id": "49a54424-63a5-486d-9ae8-1865f68f7bf2",
   "metadata": {},
   "outputs": [
    {
     "data": {
      "text/html": [
       "<div>\n",
       "<style scoped>\n",
       "    .dataframe tbody tr th:only-of-type {\n",
       "        vertical-align: middle;\n",
       "    }\n",
       "\n",
       "    .dataframe tbody tr th {\n",
       "        vertical-align: top;\n",
       "    }\n",
       "\n",
       "    .dataframe thead th {\n",
       "        text-align: right;\n",
       "    }\n",
       "</style>\n",
       "<table border=\"1\" class=\"dataframe\">\n",
       "  <thead>\n",
       "    <tr style=\"text-align: right;\">\n",
       "      <th></th>\n",
       "      <th>Agent Shift</th>\n",
       "      <th>Item_price</th>\n",
       "    </tr>\n",
       "  </thead>\n",
       "  <tbody>\n",
       "    <tr>\n",
       "      <th>0</th>\n",
       "      <td>Morning</td>\n",
       "      <td>49644527</td>\n",
       "    </tr>\n",
       "    <tr>\n",
       "      <th>1</th>\n",
       "      <td>Evening</td>\n",
       "      <td>37318326</td>\n",
       "    </tr>\n",
       "    <tr>\n",
       "      <th>2</th>\n",
       "      <td>Afternoon</td>\n",
       "      <td>5515025</td>\n",
       "    </tr>\n",
       "    <tr>\n",
       "      <th>3</th>\n",
       "      <td>Split</td>\n",
       "      <td>3333867</td>\n",
       "    </tr>\n",
       "    <tr>\n",
       "      <th>4</th>\n",
       "      <td>Night</td>\n",
       "      <td>1587547</td>\n",
       "    </tr>\n",
       "  </tbody>\n",
       "</table>\n",
       "</div>"
      ],
      "text/plain": [
       "  Agent Shift  Item_price\n",
       "0     Morning    49644527\n",
       "1     Evening    37318326\n",
       "2   Afternoon     5515025\n",
       "3       Split     3333867\n",
       "4       Night     1587547"
      ]
     },
     "execution_count": 65,
     "metadata": {},
     "output_type": "execute_result"
    }
   ],
   "source": [
    "agentshift_itemprice"
   ]
  },
  {
   "cell_type": "code",
   "execution_count": 71,
   "id": "4b11b895-cdfd-4758-a565-103fa2a88f72",
   "metadata": {},
   "outputs": [
    {
     "data": {
      "image/png": "[encoded data removed]",
      "text/plain": [
       "<Figure size 1000x1000 with 1 Axes>"
      ]
     },
     "metadata": {},
     "output_type": "display_data"
    }
   ],
   "source": [
    "plt.figure(figsize=(10,10))\n",
    "agent_shift_itemprice_barplot=sns.barplot(x='Agent Shift',y='Item_price',data=agentshift_itemprice)\n",
    "for container in agent_shift_itemprice_barplot.containers:\n",
    "    agent_shift_itemprice_barplot.bar_label(container, fmt='%.0f', padding=3,c=\"g\")\n",
    "plt.title(\"item_priceVSagent_shift\")\n",
    "plt.xticks(rotation=90)\n",
    "plt.show()"
   ]
  },
  {
   "cell_type": "code",
   "execution_count": 73,
   "id": "448fd8a3-89a1-44ad-8ab8-ad55f35fb8d8",
   "metadata": {},
   "outputs": [
    {
     "data": {
      "text/plain": [
       "12                                        Very bad\n",
       "17                                         Missing\n",
       "20                                        All good\n",
       "25                                         Missing\n",
       "26             Issue not resolved pathetic service\n",
       "                           ...                    \n",
       "85879                                      Missing\n",
       "85882    Clear all my problem thanks for Shopzilla\n",
       "85887                                      Missing\n",
       "85901                                      Missing\n",
       "85902                                      Missing\n",
       "Name: Customer Remarks, Length: 17206, dtype: object"
      ]
     },
     "execution_count": 73,
     "metadata": {},
     "output_type": "execute_result"
    }
   ],
   "source": [
    "df_cleaned['Customer Remarks']"
   ]
  },
  {
   "cell_type": "markdown",
   "id": "7d416dd3-a5a2-453b-9df0-d52b89c3beff",
   "metadata": {},
   "source": [
    "#### Text processing : removing special characters, removing stopwords, removing punctuation"
   ]
  },
  {
   "cell_type": "code",
   "execution_count": 78,
   "id": "af9f9ff0-a2c0-424b-99f5-c6febd3be718",
   "metadata": {},
   "outputs": [],
   "source": [
    "import nltk\n",
    "import string\n",
    "import re\n",
    "from nltk.corpus import stopwords\n",
    "from nltk.tokenize import word_tokenize"
   ]
  },
  {
   "cell_type": "code",
   "execution_count": 91,
   "id": "638ad08e-87a2-4c68-bcfa-1f7c50553e9a",
   "metadata": {},
   "outputs": [],
   "source": [
    "stop_words=set(stopwords.words('english'))\n",
    "punctuations=list(string.punctuation)"
   ]
  },
  {
   "cell_type": "code",
   "execution_count": 92,
   "id": "70f84de4-47be-4b18-860d-18e6ab9f5146",
   "metadata": {},
   "outputs": [
    {
     "data": {
      "text/plain": [
       "({'a',\n",
       "  'about',\n",
       "  'above',\n",
       "  'after',\n",
       "  'again',\n",
       "  'against',\n",
       "  'ain',\n",
       "  'all',\n",
       "  'am',\n",
       "  'an',\n",
       "  'and',\n",
       "  'any',\n",
       "  'are',\n",
       "  'aren',\n",
       "  \"aren't\",\n",
       "  'as',\n",
       "  'at',\n",
       "  'be',\n",
       "  'because',\n",
       "  'been',\n",
       "  'before',\n",
       "  'being',\n",
       "  'below',\n",
       "  'between',\n",
       "  'both',\n",
       "  'but',\n",
       "  'by',\n",
       "  'can',\n",
       "  'couldn',\n",
       "  \"couldn't\",\n",
       "  'd',\n",
       "  'did',\n",
       "  'didn',\n",
       "  \"didn't\",\n",
       "  'do',\n",
       "  'does',\n",
       "  'doesn',\n",
       "  \"doesn't\",\n",
       "  'doing',\n",
       "  'don',\n",
       "  \"don't\",\n",
       "  'down',\n",
       "  'during',\n",
       "  'each',\n",
       "  'few',\n",
       "  'for',\n",
       "  'from',\n",
       "  'further',\n",
       "  'had',\n",
       "  'hadn',\n",
       "  \"hadn't\",\n",
       "  'has',\n",
       "  'hasn',\n",
       "  \"hasn't\",\n",
       "  'have',\n",
       "  'haven',\n",
       "  \"haven't\",\n",
       "  'having',\n",
       "  'he',\n",
       "  \"he'd\",\n",
       "  \"he'll\",\n",
       "  \"he's\",\n",
       "  'her',\n",
       "  'here',\n",
       "  'hers',\n",
       "  'herself',\n",
       "  'him',\n",
       "  'himself',\n",
       "  'his',\n",
       "  'how',\n",
       "  'i',\n",
       "  \"i'd\",\n",
       "  \"i'll\",\n",
       "  \"i'm\",\n",
       "  \"i've\",\n",
       "  'if',\n",
       "  'in',\n",
       "  'into',\n",
       "  'is',\n",
       "  'isn',\n",
       "  \"isn't\",\n",
       "  'it',\n",
       "  \"it'd\",\n",
       "  \"it'll\",\n",
       "  \"it's\",\n",
       "  'its',\n",
       "  'itself',\n",
       "  'just',\n",
       "  'll',\n",
       "  'm',\n",
       "  'ma',\n",
       "  'me',\n",
       "  'mightn',\n",
       "  \"mightn't\",\n",
       "  'more',\n",
       "  'most',\n",
       "  'mustn',\n",
       "  \"mustn't\",\n",
       "  'my',\n",
       "  'myself',\n",
       "  'needn',\n",
       "  \"needn't\",\n",
       "  'no',\n",
       "  'nor',\n",
       "  'not',\n",
       "  'now',\n",
       "  'o',\n",
       "  'of',\n",
       "  'off',\n",
       "  'on',\n",
       "  'once',\n",
       "  'only',\n",
       "  'or',\n",
       "  'other',\n",
       "  'our',\n",
       "  'ours',\n",
       "  'ourselves',\n",
       "  'out',\n",
       "  'over',\n",
       "  'own',\n",
       "  're',\n",
       "  's',\n",
       "  'same',\n",
       "  'shan',\n",
       "  \"shan't\",\n",
       "  'she',\n",
       "  \"she'd\",\n",
       "  \"she'll\",\n",
       "  \"she's\",\n",
       "  'should',\n",
       "  \"should've\",\n",
       "  'shouldn',\n",
       "  \"shouldn't\",\n",
       "  'so',\n",
       "  'some',\n",
       "  'such',\n",
       "  't',\n",
       "  'than',\n",
       "  'that',\n",
       "  \"that'll\",\n",
       "  'the',\n",
       "  'their',\n",
       "  'theirs',\n",
       "  'them',\n",
       "  'themselves',\n",
       "  'then',\n",
       "  'there',\n",
       "  'these',\n",
       "  'they',\n",
       "  \"they'd\",\n",
       "  \"they'll\",\n",
       "  \"they're\",\n",
       "  \"they've\",\n",
       "  'this',\n",
       "  'those',\n",
       "  'through',\n",
       "  'to',\n",
       "  'too',\n",
       "  'under',\n",
       "  'until',\n",
       "  'up',\n",
       "  've',\n",
       "  'very',\n",
       "  'was',\n",
       "  'wasn',\n",
       "  \"wasn't\",\n",
       "  'we',\n",
       "  \"we'd\",\n",
       "  \"we'll\",\n",
       "  \"we're\",\n",
       "  \"we've\",\n",
       "  'were',\n",
       "  'weren',\n",
       "  \"weren't\",\n",
       "  'what',\n",
       "  'when',\n",
       "  'where',\n",
       "  'which',\n",
       "  'while',\n",
       "  'who',\n",
       "  'whom',\n",
       "  'why',\n",
       "  'will',\n",
       "  'with',\n",
       "  'won',\n",
       "  \"won't\",\n",
       "  'wouldn',\n",
       "  \"wouldn't\",\n",
       "  'y',\n",
       "  'you',\n",
       "  \"you'd\",\n",
       "  \"you'll\",\n",
       "  \"you're\",\n",
       "  \"you've\",\n",
       "  'your',\n",
       "  'yours',\n",
       "  'yourself',\n",
       "  'yourselves'},\n",
       " ['!',\n",
       "  '\"',\n",
       "  '#',\n",
       "  '$',\n",
       "  '%',\n",
       "  '&',\n",
       "  \"'\",\n",
       "  '(',\n",
       "  ')',\n",
       "  '*',\n",
       "  '+',\n",
       "  ',',\n",
       "  '-',\n",
       "  '.',\n",
       "  '/',\n",
       "  ':',\n",
       "  ';',\n",
       "  '<',\n",
       "  '=',\n",
       "  '>',\n",
       "  '?',\n",
       "  '@',\n",
       "  '[',\n",
       "  '\\\\',\n",
       "  ']',\n",
       "  '^',\n",
       "  '_',\n",
       "  '`',\n",
       "  '{',\n",
       "  '|',\n",
       "  '}',\n",
       "  '~'])"
      ]
     },
     "execution_count": 92,
     "metadata": {},
     "output_type": "execute_result"
    }
   ],
   "source": [
    "stop_words,punctuations"
   ]
  },
  {
   "cell_type": "code",
   "execution_count": 93,
   "id": "37cdf1e2-de4b-4400-9110-9d98f2d3fd21",
   "metadata": {},
   "outputs": [],
   "source": [
    "\n",
    "stop_words.update(punctuations)\n"
   ]
  },
  {
   "cell_type": "code",
   "execution_count": 94,
   "id": "6434be87-9d7f-4971-9721-3ec975c967f5",
   "metadata": {},
   "outputs": [],
   "source": [
    "def cleaned_text(text):\n",
    "    if pd.isnull(text):\n",
    "        return ''\n",
    "    # Converting into lowercase before tokenizing words\n",
    "    text=text.lower()\n",
    "    # Removing special characters\n",
    "    text = re.sub(r'[^a-z\\s]', '', text)\n",
    "    # Tokenization\n",
    "    tokens = word_tokenize(text)\n",
    "    # Removing stop words\n",
    "    cleaned_tokens = [word for word in tokens if word not in stop_words and len(word) > 1]\n",
    "    return ' '.join(cleaned_tokens)"
   ]
  },
  {
   "cell_type": "code",
   "execution_count": 95,
   "id": "abadfd10-9a8b-435d-babb-d75a75c7564f",
   "metadata": {},
   "outputs": [],
   "source": [
    "df_cleaned['Customer Remarks']=df_cleaned['Customer Remarks'].apply(cleaned_text)"
   ]
  },
  {
   "cell_type": "code",
   "execution_count": 96,
   "id": "bdcd36a4-bb6e-4088-93fb-4399b8f9ba8d",
   "metadata": {},
   "outputs": [
    {
     "data": {
      "text/plain": [
       "12                                   bad\n",
       "17                               missing\n",
       "20                                  good\n",
       "25                               missing\n",
       "26       issue resolved pathetic service\n",
       "                      ...               \n",
       "85879                            missing\n",
       "85882     clear problem thanks shopzilla\n",
       "85887                            missing\n",
       "85901                            missing\n",
       "85902                            missing\n",
       "Name: Customer Remarks, Length: 17206, dtype: object"
      ]
     },
     "execution_count": 96,
     "metadata": {},
     "output_type": "execute_result"
    }
   ],
   "source": [
    "df_cleaned['Customer Remarks']"
   ]
  },
  {
   "cell_type": "markdown",
   "id": "53f7e5ce-136e-4442-917a-a074337080fa",
   "metadata": {},
   "source": [
    "## Label encoding"
   ]
  },
  {
   "cell_type": "code",
   "execution_count": 98,
   "id": "70418c71-c214-424b-b570-85b5b3929172",
   "metadata": {},
   "outputs": [],
   "source": [
    "columns_to_encode=['channel_name','category','Sub-category','Customer Remarks','Customer_City','Product_category','Tenure Bucket','Agent Shift']"
   ]
  },
  {
   "cell_type": "code",
   "execution_count": 99,
   "id": "e4f1c611-2dfd-4903-8e0c-c8105e5de52f",
   "metadata": {},
   "outputs": [],
   "source": [
    "from sklearn.preprocessing import LabelEncoder"
   ]
  },
  {
   "cell_type": "code",
   "execution_count": 101,
   "id": "ab10ef20-4885-4da5-8dee-b9750780f82d",
   "metadata": {},
   "outputs": [],
   "source": [
    "le=LabelEncoder() # Creating object"
   ]
  },
  {
   "cell_type": "code",
   "execution_count": 103,
   "id": "338d7a4b-5bc8-4952-bb49-4a4072c3aeca",
   "metadata": {},
   "outputs": [],
   "source": [
    "for col in columns_to_encode:\n",
    "    df_cleaned[col]=le.fit_transform(df_cleaned[col])"
   ]
  },
  {
   "cell_type": "code",
   "execution_count": 106,
   "id": "b793fd5a-b285-4c49-85b5-eb6f5a80ccf1",
   "metadata": {},
   "outputs": [
    {
     "data": {
      "text/plain": [
       "(12       1\n",
       " 17       1\n",
       " 20       1\n",
       " 25       1\n",
       " 26       1\n",
       "         ..\n",
       " 85879    1\n",
       " 85882    1\n",
       " 85887    1\n",
       " 85901    1\n",
       " 85902    1\n",
       " Name: channel_name, Length: 17206, dtype: int64,\n",
       " 12       3\n",
       " 17       8\n",
       " 20       3\n",
       " 25       8\n",
       " 26       3\n",
       "         ..\n",
       " 85879    1\n",
       " 85882    3\n",
       " 85887    8\n",
       " 85901    3\n",
       " 85902    3\n",
       " Name: category, Length: 17206, dtype: int64,\n",
       " 12        112\n",
       " 17       1685\n",
       " 20        997\n",
       " 25       1685\n",
       " 26       1477\n",
       "          ... \n",
       " 85879    1685\n",
       " 85882     379\n",
       " 85887    1685\n",
       " 85901    1685\n",
       " 85902    1685\n",
       " Name: Customer Remarks, Length: 17206, dtype: int64)"
      ]
     },
     "execution_count": 106,
     "metadata": {},
     "output_type": "execute_result"
    }
   ],
   "source": [
    "df_cleaned['channel_name'],df_cleaned['category'],df_cleaned['Customer Remarks'] # Text has been converted it into labels"
   ]
  },
  {
   "cell_type": "code",
   "execution_count": 119,
   "id": "0eae2609-2f8a-4be9-88ed-d6304cc0d97e",
   "metadata": {},
   "outputs": [
    {
     "data": {
      "text/plain": [
       "(17206, 8)"
      ]
     },
     "execution_count": 119,
     "metadata": {},
     "output_type": "execute_result"
    }
   ],
   "source": [
    "x=df_cleaned[columns_to_encode]\n",
    "x.shape"
   ]
  },
  {
   "cell_type": "code",
   "execution_count": 121,
   "id": "4511c30d-a2c5-4e2a-ad61-62d15b5f1afb",
   "metadata": {},
   "outputs": [],
   "source": [
    "y=df['CSAT Score']"
   ]
  },
  {
   "cell_type": "code",
   "execution_count": 122,
   "id": "fc0c3c2f-bec0-49ff-928f-b10173258420",
   "metadata": {},
   "outputs": [],
   "source": [
    "y = y[:len(x)] "
   ]
  },
  {
   "cell_type": "code",
   "execution_count": 125,
   "id": "8d9af09d-c2a4-4269-bb8f-fa37c3588e98",
   "metadata": {},
   "outputs": [
    {
     "data": {
      "text/plain": [
       "(17206,)"
      ]
     },
     "execution_count": 125,
     "metadata": {},
     "output_type": "execute_result"
    }
   ],
   "source": [
    "y.shape"
   ]
  },
  {
   "cell_type": "code",
   "execution_count": 123,
   "id": "a452bf08-aeea-46f8-801c-b3d72fa436bf",
   "metadata": {},
   "outputs": [],
   "source": [
    "from sklearn.model_selection import train_test_split"
   ]
  },
  {
   "cell_type": "code",
   "execution_count": 126,
   "id": "affc7d50-bae5-49c3-91bc-6fd370ad2fc0",
   "metadata": {},
   "outputs": [],
   "source": [
    "# Splitting intp training and testing part\n",
    "x_train,x_test,y_train,y_test=train_test_split(x,y,test_size=0.3,random_state=42)"
   ]
  },
  {
   "cell_type": "markdown",
   "id": "26c6e34b-346f-4de4-b7ce-1a30175fd70b",
   "metadata": {},
   "source": [
    "## Feature scaling"
   ]
  },
  {
   "cell_type": "code",
   "execution_count": 127,
   "id": "5a178d6c-858a-4b3c-b337-155bfa6fd2d5",
   "metadata": {},
   "outputs": [],
   "source": [
    "from sklearn.preprocessing import StandardScaler"
   ]
  },
  {
   "cell_type": "code",
   "execution_count": 128,
   "id": "40749e8b-b5ce-4d4b-a1ec-4b019b444649",
   "metadata": {},
   "outputs": [],
   "source": [
    "st=StandardScaler()"
   ]
  },
  {
   "cell_type": "code",
   "execution_count": 129,
   "id": "37ea0133-d468-4fad-a5b3-4c1a7e57bb2f",
   "metadata": {},
   "outputs": [],
   "source": [
    "x_train_scaled=st.fit_transform(x_train)\n",
    "x_test_scaled=st.transform(x_test)"
   ]
  },
  {
   "cell_type": "markdown",
   "id": "5f8c5b8b-1d96-4b3a-b588-2375851738c8",
   "metadata": {},
   "source": [
    "## ANN model"
   ]
  },
  {
   "cell_type": "code",
   "execution_count": 158,
   "id": "73ed44c6-9816-4f25-8a88-5e77af717472",
   "metadata": {},
   "outputs": [],
   "source": [
    "import tensorflow as tf\n",
    "from tensorflow.keras.models import Sequential\n",
    "from tensorflow.keras.layers import Dense,Dropout"
   ]
  },
  {
   "cell_type": "code",
   "execution_count": 164,
   "id": "e864945c-690b-4711-b1d7-8f0758b1bc58",
   "metadata": {},
   "outputs": [],
   "source": [
    "model= Sequential(\n",
    "    [\n",
    "        Dense(128,activation='relu',input_shape=(x_train_scaled.shape[1],)),Dropout(0.3),\n",
    "        Dense(64,activation='relu'),Dropout(0.2),\n",
    "        Dense(len(y_train.unique())+1,activation='softmax')  \n",
    "    ]\n",
    ")"
   ]
  },
  {
   "cell_type": "code",
   "execution_count": 165,
   "id": "dd44180b-bc2c-4ac1-a65d-3fa12f5935f9",
   "metadata": {},
   "outputs": [
    {
     "data": {
      "text/html": [
       "<pre style=\"white-space:pre;overflow-x:auto;line-height:normal;font-family:Menlo,'DejaVu Sans Mono',consolas,'Courier New',monospace\"><span style=\"font-weight: bold\">Model: \"sequential_3\"</span>\n",
       "</pre>\n"
      ],
      "text/plain": [
       "\u001b[1mModel: \"sequential_3\"\u001b[0m\n"
      ]
     },
     "metadata": {},
     "output_type": "display_data"
    },
    {
     "data": {
      "text/html": [
       "<pre style=\"white-space:pre;overflow-x:auto;line-height:normal;font-family:Menlo,'DejaVu Sans Mono',consolas,'Courier New',monospace\">┏━━━━━━━━━━━━━━━━━━━━━━━━━━━━━━━━━━━━━━┳━━━━━━━━━━━━━━━━━━━━━━━━━━━━━┳━━━━━━━━━━━━━━━━━┓\n",
       "┃<span style=\"font-weight: bold\"> Layer (type)                         </span>┃<span style=\"font-weight: bold\"> Output Shape                </span>┃<span style=\"font-weight: bold\">         Param # </span>┃\n",
       "┡━━━━━━━━━━━━━━━━━━━━━━━━━━━━━━━━━━━━━━╇━━━━━━━━━━━━━━━━━━━━━━━━━━━━━╇━━━━━━━━━━━━━━━━━┩\n",
       "│ dense_9 (<span style=\"color: #0087ff; text-decoration-color: #0087ff\">Dense</span>)                      │ (<span style=\"color: #00d7ff; text-decoration-color: #00d7ff\">None</span>, <span style=\"color: #00af00; text-decoration-color: #00af00\">128</span>)                 │           <span style=\"color: #00af00; text-decoration-color: #00af00\">1,152</span> │\n",
       "├──────────────────────────────────────┼─────────────────────────────┼─────────────────┤\n",
       "│ dropout (<span style=\"color: #0087ff; text-decoration-color: #0087ff\">Dropout</span>)                    │ (<span style=\"color: #00d7ff; text-decoration-color: #00d7ff\">None</span>, <span style=\"color: #00af00; text-decoration-color: #00af00\">128</span>)                 │               <span style=\"color: #00af00; text-decoration-color: #00af00\">0</span> │\n",
       "├──────────────────────────────────────┼─────────────────────────────┼─────────────────┤\n",
       "│ dense_10 (<span style=\"color: #0087ff; text-decoration-color: #0087ff\">Dense</span>)                     │ (<span style=\"color: #00d7ff; text-decoration-color: #00d7ff\">None</span>, <span style=\"color: #00af00; text-decoration-color: #00af00\">64</span>)                  │           <span style=\"color: #00af00; text-decoration-color: #00af00\">8,256</span> │\n",
       "├──────────────────────────────────────┼─────────────────────────────┼─────────────────┤\n",
       "│ dropout_1 (<span style=\"color: #0087ff; text-decoration-color: #0087ff\">Dropout</span>)                  │ (<span style=\"color: #00d7ff; text-decoration-color: #00d7ff\">None</span>, <span style=\"color: #00af00; text-decoration-color: #00af00\">64</span>)                  │               <span style=\"color: #00af00; text-decoration-color: #00af00\">0</span> │\n",
       "├──────────────────────────────────────┼─────────────────────────────┼─────────────────┤\n",
       "│ dense_11 (<span style=\"color: #0087ff; text-decoration-color: #0087ff\">Dense</span>)                     │ (<span style=\"color: #00d7ff; text-decoration-color: #00d7ff\">None</span>, <span style=\"color: #00af00; text-decoration-color: #00af00\">6</span>)                   │             <span style=\"color: #00af00; text-decoration-color: #00af00\">390</span> │\n",
       "└──────────────────────────────────────┴─────────────────────────────┴─────────────────┘\n",
       "</pre>\n"
      ],
      "text/plain": [
       "┏━━━━━━━━━━━━━━━━━━━━━━━━━━━━━━━━━━━━━━┳━━━━━━━━━━━━━━━━━━━━━━━━━━━━━┳━━━━━━━━━━━━━━━━━┓\n",
       "┃\u001b[1m \u001b[0m\u001b[1mLayer (type)                        \u001b[0m\u001b[1m \u001b[0m┃\u001b[1m \u001b[0m\u001b[1mOutput Shape               \u001b[0m\u001b[1m \u001b[0m┃\u001b[1m \u001b[0m\u001b[1m        Param #\u001b[0m\u001b[1m \u001b[0m┃\n",
       "┡━━━━━━━━━━━━━━━━━━━━━━━━━━━━━━━━━━━━━━╇━━━━━━━━━━━━━━━━━━━━━━━━━━━━━╇━━━━━━━━━━━━━━━━━┩\n",
       "│ dense_9 (\u001b[38;5;33mDense\u001b[0m)                      │ (\u001b[38;5;45mNone\u001b[0m, \u001b[38;5;34m128\u001b[0m)                 │           \u001b[38;5;34m1,152\u001b[0m │\n",
       "├──────────────────────────────────────┼─────────────────────────────┼─────────────────┤\n",
       "│ dropout (\u001b[38;5;33mDropout\u001b[0m)                    │ (\u001b[38;5;45mNone\u001b[0m, \u001b[38;5;34m128\u001b[0m)                 │               \u001b[38;5;34m0\u001b[0m │\n",
       "├──────────────────────────────────────┼─────────────────────────────┼─────────────────┤\n",
       "│ dense_10 (\u001b[38;5;33mDense\u001b[0m)                     │ (\u001b[38;5;45mNone\u001b[0m, \u001b[38;5;34m64\u001b[0m)                  │           \u001b[38;5;34m8,256\u001b[0m │\n",
       "├──────────────────────────────────────┼─────────────────────────────┼─────────────────┤\n",
       "│ dropout_1 (\u001b[38;5;33mDropout\u001b[0m)                  │ (\u001b[38;5;45mNone\u001b[0m, \u001b[38;5;34m64\u001b[0m)                  │               \u001b[38;5;34m0\u001b[0m │\n",
       "├──────────────────────────────────────┼─────────────────────────────┼─────────────────┤\n",
       "│ dense_11 (\u001b[38;5;33mDense\u001b[0m)                     │ (\u001b[38;5;45mNone\u001b[0m, \u001b[38;5;34m6\u001b[0m)                   │             \u001b[38;5;34m390\u001b[0m │\n",
       "└──────────────────────────────────────┴─────────────────────────────┴─────────────────┘\n"
      ]
     },
     "metadata": {},
     "output_type": "display_data"
    },
    {
     "data": {
      "text/html": [
       "<pre style=\"white-space:pre;overflow-x:auto;line-height:normal;font-family:Menlo,'DejaVu Sans Mono',consolas,'Courier New',monospace\"><span style=\"font-weight: bold\"> Total params: </span><span style=\"color: #00af00; text-decoration-color: #00af00\">9,798</span> (38.27 KB)\n",
       "</pre>\n"
      ],
      "text/plain": [
       "\u001b[1m Total params: \u001b[0m\u001b[38;5;34m9,798\u001b[0m (38.27 KB)\n"
      ]
     },
     "metadata": {},
     "output_type": "display_data"
    },
    {
     "data": {
      "text/html": [
       "<pre style=\"white-space:pre;overflow-x:auto;line-height:normal;font-family:Menlo,'DejaVu Sans Mono',consolas,'Courier New',monospace\"><span style=\"font-weight: bold\"> Trainable params: </span><span style=\"color: #00af00; text-decoration-color: #00af00\">9,798</span> (38.27 KB)\n",
       "</pre>\n"
      ],
      "text/plain": [
       "\u001b[1m Trainable params: \u001b[0m\u001b[38;5;34m9,798\u001b[0m (38.27 KB)\n"
      ]
     },
     "metadata": {},
     "output_type": "display_data"
    },
    {
     "data": {
      "text/html": [
       "<pre style=\"white-space:pre;overflow-x:auto;line-height:normal;font-family:Menlo,'DejaVu Sans Mono',consolas,'Courier New',monospace\"><span style=\"font-weight: bold\"> Non-trainable params: </span><span style=\"color: #00af00; text-decoration-color: #00af00\">0</span> (0.00 B)\n",
       "</pre>\n"
      ],
      "text/plain": [
       "\u001b[1m Non-trainable params: \u001b[0m\u001b[38;5;34m0\u001b[0m (0.00 B)\n"
      ]
     },
     "metadata": {},
     "output_type": "display_data"
    }
   ],
   "source": [
    "model.summary()"
   ]
  },
  {
   "cell_type": "markdown",
   "id": "e3d77f15-d7b1-4d79-b2e5-3791577a8f77",
   "metadata": {},
   "source": [
    "#### Compilation"
   ]
  },
  {
   "cell_type": "code",
   "execution_count": 166,
   "id": "c78c4fdf-c4b6-450a-951d-501847cbbefc",
   "metadata": {},
   "outputs": [],
   "source": [
    "model.compile(optimizer='adam', loss='sparse_categorical_crossentropy', metrics=['accuracy'])  \n",
    "# It includes updation weights"
   ]
  },
  {
   "cell_type": "code",
   "execution_count": 167,
   "id": "badb1366-fd7d-44c2-a3de-7e786d577df1",
   "metadata": {},
   "outputs": [
    {
     "data": {
      "text/plain": [
       "dtype('float64')"
      ]
     },
     "execution_count": 167,
     "metadata": {},
     "output_type": "execute_result"
    }
   ],
   "source": [
    "x_train_scaled.dtype"
   ]
  },
  {
   "cell_type": "code",
   "execution_count": 168,
   "id": "877d8bd5-cf3a-4f2a-9cc9-935e88ecec00",
   "metadata": {},
   "outputs": [
    {
     "data": {
      "text/plain": [
       "dtype('float32')"
      ]
     },
     "execution_count": 168,
     "metadata": {},
     "output_type": "execute_result"
    }
   ],
   "source": [
    "y_train.dtype"
   ]
  },
  {
   "cell_type": "code",
   "execution_count": 169,
   "id": "91da1b95-1cd7-45c0-a676-71ad8020a0c2",
   "metadata": {},
   "outputs": [],
   "source": [
    "y_train = y_train.astype('float32')"
   ]
  },
  {
   "cell_type": "code",
   "execution_count": 170,
   "id": "c3819275-1516-44c1-9687-b47d1e623093",
   "metadata": {},
   "outputs": [
    {
     "data": {
      "text/plain": [
       "dtype('float32')"
      ]
     },
     "execution_count": 170,
     "metadata": {},
     "output_type": "execute_result"
    }
   ],
   "source": [
    "y_train.dtype"
   ]
  },
  {
   "cell_type": "code",
   "execution_count": 171,
   "id": "3821a9bc-052d-4739-b2b3-dfd310fdfe94",
   "metadata": {},
   "outputs": [
    {
     "name": "stdout",
     "output_type": "stream",
     "text": [
      "Epoch 1/50\n",
      "\u001b[1m377/377\u001b[0m \u001b[32m━━━━━━━━━━━━━━━━━━━━\u001b[0m\u001b[37m\u001b[0m \u001b[1m5s\u001b[0m 7ms/step - accuracy: 0.6503 - loss: 1.1202\n",
      "Epoch 2/50\n",
      "\u001b[1m377/377\u001b[0m \u001b[32m━━━━━━━━━━━━━━━━━━━━\u001b[0m\u001b[37m\u001b[0m \u001b[1m2s\u001b[0m 6ms/step - accuracy: 0.6898 - loss: 0.9853\n",
      "Epoch 3/50\n",
      "\u001b[1m377/377\u001b[0m \u001b[32m━━━━━━━━━━━━━━━━━━━━\u001b[0m\u001b[37m\u001b[0m \u001b[1m3s\u001b[0m 7ms/step - accuracy: 0.6907 - loss: 0.9776\n",
      "Epoch 4/50\n",
      "\u001b[1m377/377\u001b[0m \u001b[32m━━━━━━━━━━━━━━━━━━━━\u001b[0m\u001b[37m\u001b[0m \u001b[1m2s\u001b[0m 6ms/step - accuracy: 0.6932 - loss: 0.9655\n",
      "Epoch 5/50\n",
      "\u001b[1m377/377\u001b[0m \u001b[32m━━━━━━━━━━━━━━━━━━━━\u001b[0m\u001b[37m\u001b[0m \u001b[1m3s\u001b[0m 8ms/step - accuracy: 0.6926 - loss: 0.9675\n",
      "Epoch 6/50\n",
      "\u001b[1m377/377\u001b[0m \u001b[32m━━━━━━━━━━━━━━━━━━━━\u001b[0m\u001b[37m\u001b[0m \u001b[1m3s\u001b[0m 7ms/step - accuracy: 0.6896 - loss: 0.9663\n",
      "Epoch 7/50\n",
      "\u001b[1m377/377\u001b[0m \u001b[32m━━━━━━━━━━━━━━━━━━━━\u001b[0m\u001b[37m\u001b[0m \u001b[1m3s\u001b[0m 8ms/step - accuracy: 0.6951 - loss: 0.9641\n",
      "Epoch 8/50\n",
      "\u001b[1m377/377\u001b[0m \u001b[32m━━━━━━━━━━━━━━━━━━━━\u001b[0m\u001b[37m\u001b[0m \u001b[1m3s\u001b[0m 7ms/step - accuracy: 0.6810 - loss: 0.9900\n",
      "Epoch 9/50\n",
      "\u001b[1m377/377\u001b[0m \u001b[32m━━━━━━━━━━━━━━━━━━━━\u001b[0m\u001b[37m\u001b[0m \u001b[1m3s\u001b[0m 7ms/step - accuracy: 0.6894 - loss: 0.9662\n",
      "Epoch 10/50\n",
      "\u001b[1m377/377\u001b[0m \u001b[32m━━━━━━━━━━━━━━━━━━━━\u001b[0m\u001b[37m\u001b[0m \u001b[1m3s\u001b[0m 9ms/step - accuracy: 0.6883 - loss: 0.9639\n",
      "Epoch 11/50\n",
      "\u001b[1m377/377\u001b[0m \u001b[32m━━━━━━━━━━━━━━━━━━━━\u001b[0m\u001b[37m\u001b[0m \u001b[1m3s\u001b[0m 8ms/step - accuracy: 0.6934 - loss: 0.9561\n",
      "Epoch 12/50\n",
      "\u001b[1m377/377\u001b[0m \u001b[32m━━━━━━━━━━━━━━━━━━━━\u001b[0m\u001b[37m\u001b[0m \u001b[1m3s\u001b[0m 7ms/step - accuracy: 0.6846 - loss: 0.9744\n",
      "Epoch 13/50\n",
      "\u001b[1m377/377\u001b[0m \u001b[32m━━━━━━━━━━━━━━━━━━━━\u001b[0m\u001b[37m\u001b[0m \u001b[1m4s\u001b[0m 10ms/step - accuracy: 0.6851 - loss: 0.9714\n",
      "Epoch 14/50\n",
      "\u001b[1m377/377\u001b[0m \u001b[32m━━━━━━━━━━━━━━━━━━━━\u001b[0m\u001b[37m\u001b[0m \u001b[1m3s\u001b[0m 9ms/step - accuracy: 0.6924 - loss: 0.9527\n",
      "Epoch 15/50\n",
      "\u001b[1m377/377\u001b[0m \u001b[32m━━━━━━━━━━━━━━━━━━━━\u001b[0m\u001b[37m\u001b[0m \u001b[1m3s\u001b[0m 9ms/step - accuracy: 0.6861 - loss: 0.9664\n",
      "Epoch 16/50\n",
      "\u001b[1m377/377\u001b[0m \u001b[32m━━━━━━━━━━━━━━━━━━━━\u001b[0m\u001b[37m\u001b[0m \u001b[1m3s\u001b[0m 8ms/step - accuracy: 0.6883 - loss: 0.9572\n",
      "Epoch 17/50\n",
      "\u001b[1m377/377\u001b[0m \u001b[32m━━━━━━━━━━━━━━━━━━━━\u001b[0m\u001b[37m\u001b[0m \u001b[1m3s\u001b[0m 8ms/step - accuracy: 0.6856 - loss: 0.9638\n",
      "Epoch 18/50\n",
      "\u001b[1m377/377\u001b[0m \u001b[32m━━━━━━━━━━━━━━━━━━━━\u001b[0m\u001b[37m\u001b[0m \u001b[1m3s\u001b[0m 7ms/step - accuracy: 0.6847 - loss: 0.9663\n",
      "Epoch 19/50\n",
      "\u001b[1m377/377\u001b[0m \u001b[32m━━━━━━━━━━━━━━━━━━━━\u001b[0m\u001b[37m\u001b[0m \u001b[1m4s\u001b[0m 9ms/step - accuracy: 0.6823 - loss: 0.9747\n",
      "Epoch 20/50\n",
      "\u001b[1m377/377\u001b[0m \u001b[32m━━━━━━━━━━━━━━━━━━━━\u001b[0m\u001b[37m\u001b[0m \u001b[1m3s\u001b[0m 7ms/step - accuracy: 0.6877 - loss: 0.9595\n",
      "Epoch 21/50\n",
      "\u001b[1m377/377\u001b[0m \u001b[32m━━━━━━━━━━━━━━━━━━━━\u001b[0m\u001b[37m\u001b[0m \u001b[1m3s\u001b[0m 7ms/step - accuracy: 0.6959 - loss: 0.9395\n",
      "Epoch 22/50\n",
      "\u001b[1m377/377\u001b[0m \u001b[32m━━━━━━━━━━━━━━━━━━━━\u001b[0m\u001b[37m\u001b[0m \u001b[1m3s\u001b[0m 7ms/step - accuracy: 0.6831 - loss: 0.9679\n",
      "Epoch 23/50\n",
      "\u001b[1m377/377\u001b[0m \u001b[32m━━━━━━━━━━━━━━━━━━━━\u001b[0m\u001b[37m\u001b[0m \u001b[1m4s\u001b[0m 10ms/step - accuracy: 0.6928 - loss: 0.9452\n",
      "Epoch 24/50\n",
      "\u001b[1m377/377\u001b[0m \u001b[32m━━━━━━━━━━━━━━━━━━━━\u001b[0m\u001b[37m\u001b[0m \u001b[1m4s\u001b[0m 10ms/step - accuracy: 0.6931 - loss: 0.9461\n",
      "Epoch 25/50\n",
      "\u001b[1m377/377\u001b[0m \u001b[32m━━━━━━━━━━━━━━━━━━━━\u001b[0m\u001b[37m\u001b[0m \u001b[1m4s\u001b[0m 10ms/step - accuracy: 0.6889 - loss: 0.9544\n",
      "Epoch 26/50\n",
      "\u001b[1m377/377\u001b[0m \u001b[32m━━━━━━━━━━━━━━━━━━━━\u001b[0m\u001b[37m\u001b[0m \u001b[1m3s\u001b[0m 9ms/step - accuracy: 0.6846 - loss: 0.9668\n",
      "Epoch 27/50\n",
      "\u001b[1m377/377\u001b[0m \u001b[32m━━━━━━━━━━━━━━━━━━━━\u001b[0m\u001b[37m\u001b[0m \u001b[1m3s\u001b[0m 7ms/step - accuracy: 0.6984 - loss: 0.9372\n",
      "Epoch 28/50\n",
      "\u001b[1m377/377\u001b[0m \u001b[32m━━━━━━━━━━━━━━━━━━━━\u001b[0m\u001b[37m\u001b[0m \u001b[1m3s\u001b[0m 7ms/step - accuracy: 0.6900 - loss: 0.9566\n",
      "Epoch 29/50\n",
      "\u001b[1m377/377\u001b[0m \u001b[32m━━━━━━━━━━━━━━━━━━━━\u001b[0m\u001b[37m\u001b[0m \u001b[1m5s\u001b[0m 7ms/step - accuracy: 0.6904 - loss: 0.9540\n",
      "Epoch 30/50\n",
      "\u001b[1m377/377\u001b[0m \u001b[32m━━━━━━━━━━━━━━━━━━━━\u001b[0m\u001b[37m\u001b[0m \u001b[1m3s\u001b[0m 9ms/step - accuracy: 0.6857 - loss: 0.9546\n",
      "Epoch 31/50\n",
      "\u001b[1m377/377\u001b[0m \u001b[32m━━━━━━━━━━━━━━━━━━━━\u001b[0m\u001b[37m\u001b[0m \u001b[1m2s\u001b[0m 6ms/step - accuracy: 0.6853 - loss: 0.9557\n",
      "Epoch 32/50\n",
      "\u001b[1m377/377\u001b[0m \u001b[32m━━━━━━━━━━━━━━━━━━━━\u001b[0m\u001b[37m\u001b[0m \u001b[1m4s\u001b[0m 9ms/step - accuracy: 0.6969 - loss: 0.9379\n",
      "Epoch 33/50\n",
      "\u001b[1m377/377\u001b[0m \u001b[32m━━━━━━━━━━━━━━━━━━━━\u001b[0m\u001b[37m\u001b[0m \u001b[1m3s\u001b[0m 7ms/step - accuracy: 0.6909 - loss: 0.9446\n",
      "Epoch 34/50\n",
      "\u001b[1m377/377\u001b[0m \u001b[32m━━━━━━━━━━━━━━━━━━━━\u001b[0m\u001b[37m\u001b[0m \u001b[1m2s\u001b[0m 6ms/step - accuracy: 0.6922 - loss: 0.9458\n",
      "Epoch 35/50\n",
      "\u001b[1m377/377\u001b[0m \u001b[32m━━━━━━━━━━━━━━━━━━━━\u001b[0m\u001b[37m\u001b[0m \u001b[1m2s\u001b[0m 6ms/step - accuracy: 0.6912 - loss: 0.9441\n",
      "Epoch 36/50\n",
      "\u001b[1m377/377\u001b[0m \u001b[32m━━━━━━━━━━━━━━━━━━━━\u001b[0m\u001b[37m\u001b[0m \u001b[1m3s\u001b[0m 7ms/step - accuracy: 0.6876 - loss: 0.9464\n",
      "Epoch 37/50\n",
      "\u001b[1m377/377\u001b[0m \u001b[32m━━━━━━━━━━━━━━━━━━━━\u001b[0m\u001b[37m\u001b[0m \u001b[1m2s\u001b[0m 6ms/step - accuracy: 0.6845 - loss: 0.9612\n",
      "Epoch 38/50\n",
      "\u001b[1m377/377\u001b[0m \u001b[32m━━━━━━━━━━━━━━━━━━━━\u001b[0m\u001b[37m\u001b[0m \u001b[1m2s\u001b[0m 6ms/step - accuracy: 0.6911 - loss: 0.9412\n",
      "Epoch 39/50\n",
      "\u001b[1m377/377\u001b[0m \u001b[32m━━━━━━━━━━━━━━━━━━━━\u001b[0m\u001b[37m\u001b[0m \u001b[1m3s\u001b[0m 8ms/step - accuracy: 0.6917 - loss: 0.9448\n",
      "Epoch 40/50\n",
      "\u001b[1m377/377\u001b[0m \u001b[32m━━━━━━━━━━━━━━━━━━━━\u001b[0m\u001b[37m\u001b[0m \u001b[1m2s\u001b[0m 5ms/step - accuracy: 0.6945 - loss: 0.9413\n",
      "Epoch 41/50\n",
      "\u001b[1m377/377\u001b[0m \u001b[32m━━━━━━━━━━━━━━━━━━━━\u001b[0m\u001b[37m\u001b[0m \u001b[1m3s\u001b[0m 8ms/step - accuracy: 0.6874 - loss: 0.9509\n",
      "Epoch 42/50\n",
      "\u001b[1m377/377\u001b[0m \u001b[32m━━━━━━━━━━━━━━━━━━━━\u001b[0m\u001b[37m\u001b[0m \u001b[1m3s\u001b[0m 7ms/step - accuracy: 0.6886 - loss: 0.9456\n",
      "Epoch 43/50\n",
      "\u001b[1m377/377\u001b[0m \u001b[32m━━━━━━━━━━━━━━━━━━━━\u001b[0m\u001b[37m\u001b[0m \u001b[1m3s\u001b[0m 9ms/step - accuracy: 0.6901 - loss: 0.9395\n",
      "Epoch 44/50\n",
      "\u001b[1m377/377\u001b[0m \u001b[32m━━━━━━━━━━━━━━━━━━━━\u001b[0m\u001b[37m\u001b[0m \u001b[1m3s\u001b[0m 7ms/step - accuracy: 0.6908 - loss: 0.9362\n",
      "Epoch 45/50\n",
      "\u001b[1m377/377\u001b[0m \u001b[32m━━━━━━━━━━━━━━━━━━━━\u001b[0m\u001b[37m\u001b[0m \u001b[1m2s\u001b[0m 5ms/step - accuracy: 0.6951 - loss: 0.9313\n",
      "Epoch 46/50\n",
      "\u001b[1m377/377\u001b[0m \u001b[32m━━━━━━━━━━━━━━━━━━━━\u001b[0m\u001b[37m\u001b[0m \u001b[1m2s\u001b[0m 5ms/step - accuracy: 0.6985 - loss: 0.9251\n",
      "Epoch 47/50\n",
      "\u001b[1m377/377\u001b[0m \u001b[32m━━━━━━━━━━━━━━━━━━━━\u001b[0m\u001b[37m\u001b[0m \u001b[1m3s\u001b[0m 6ms/step - accuracy: 0.6868 - loss: 0.9529\n",
      "Epoch 48/50\n",
      "\u001b[1m377/377\u001b[0m \u001b[32m━━━━━━━━━━━━━━━━━━━━\u001b[0m\u001b[37m\u001b[0m \u001b[1m3s\u001b[0m 9ms/step - accuracy: 0.6976 - loss: 0.9291\n",
      "Epoch 49/50\n",
      "\u001b[1m377/377\u001b[0m \u001b[32m━━━━━━━━━━━━━━━━━━━━\u001b[0m\u001b[37m\u001b[0m \u001b[1m3s\u001b[0m 8ms/step - accuracy: 0.6940 - loss: 0.9352\n",
      "Epoch 50/50\n",
      "\u001b[1m377/377\u001b[0m \u001b[32m━━━━━━━━━━━━━━━━━━━━\u001b[0m\u001b[37m\u001b[0m \u001b[1m2s\u001b[0m 6ms/step - accuracy: 0.6836 - loss: 0.9543\n"
     ]
    }
   ],
   "source": [
    "history = model.fit(x_train_scaled, y_train, epochs=50, batch_size=32)"
   ]
  },
  {
   "cell_type": "code",
   "execution_count": 178,
   "id": "5209cd9a-e529-420d-9600-ebe091132f6f",
   "metadata": {},
   "outputs": [
    {
     "data": {
      "text/plain": [
       "(dtype('O'), dtype('float64'))"
      ]
     },
     "execution_count": 178,
     "metadata": {},
     "output_type": "execute_result"
    }
   ],
   "source": [
    "y_test.dtypes,x_test_scaled.dtype"
   ]
  },
  {
   "cell_type": "code",
   "execution_count": 180,
   "id": "33f3f7f0-7de2-4bbc-b8b8-482de9f902b3",
   "metadata": {},
   "outputs": [],
   "source": [
    "y_test = y_test[~y_test.str.contains('Column', na=False)]"
   ]
  },
  {
   "cell_type": "code",
   "execution_count": 184,
   "id": "905562a0-6722-4757-a8c1-850cb923b95a",
   "metadata": {},
   "outputs": [
    {
     "data": {
      "text/plain": [
       "((5161,), (5162, 8))"
      ]
     },
     "execution_count": 184,
     "metadata": {},
     "output_type": "execute_result"
    }
   ],
   "source": [
    "y_test.shape,x_test_scaled.shape"
   ]
  },
  {
   "cell_type": "code",
   "execution_count": null,
   "id": "b2b75f93-b4dd-4ce7-a849-623f9d0781b8",
   "metadata": {},
   "outputs": [],
   "source": [
    "test_accuracy = model.evaluate(x_test_scaled, y_test)\n",
    "print(\"Test Accuracy:\", test_accuracy)"
   ]
  }
 ],
 "metadata": {
  "kernelspec": {
   "display_name": "Python 3 (ipykernel)",
   "language": "python",
   "name": "python3"
  },
  "language_info": {
   "codemirror_mode": {
    "name": "ipython",
    "version": 3
   },
   "file_extension": ".py",
   "mimetype": "text/x-python",
   "name": "python",
   "nbconvert_exporter": "python",
   "pygments_lexer": "ipython3",
   "version": "3.11.8"
  }
 },
 "nbformat": 4,
 "nbformat_minor": 5
}
